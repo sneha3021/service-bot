{
 "cells": [
  {
   "cell_type": "code",
   "execution_count": 1,
   "id": "a412f574",
   "metadata": {},
   "outputs": [],
   "source": [
    "import pandas as pd\n",
    "from sklearn.model_selection import train_test_split\n",
    "import nltk\n"
   ]
  },
  {
   "cell_type": "code",
   "execution_count": 2,
   "id": "23cc8779",
   "metadata": {},
   "outputs": [],
   "source": [
    "#file_path = 'C:\\Users\\Admin\\Downloads\\archivenow\\datsetforchatbot.csv'\n",
    "file_path = 'C:\\\\Users\\\\Admin\\\\Downloads\\\\archivenow\\\\datsetforchatbot.csv'\n",
    "\n",
    "\n",
    "dataset = pd.read_csv(file_path)\n"
   ]
  },
  {
   "cell_type": "code",
   "execution_count": 3,
   "id": "9259cb37",
   "metadata": {},
   "outputs": [
    {
     "name": "stdout",
     "output_type": "stream",
     "text": [
      "   flags                                          utterance category  \\\n",
      "0   BILC  I don't have an online account, what do I have...  ACCOUNT   \n",
      "1  BILQZ  can you tell me if i can regisger two accounts...  ACCOUNT   \n",
      "2   BPLC         I have no online account, open one, please  ACCOUNT   \n",
      "3  BIPLD  could you ask an agent how to open an account,...  ACCOUNT   \n",
      "4   BLQC               i want an online account, create one  ACCOUNT   \n",
      "\n",
      "           intent  \n",
      "0  create_account  \n",
      "1  create_account  \n",
      "2  create_account  \n",
      "3  create_account  \n",
      "4  create_account  \n",
      "<class 'pandas.core.frame.DataFrame'>\n",
      "RangeIndex: 21534 entries, 0 to 21533\n",
      "Data columns (total 4 columns):\n",
      " #   Column     Non-Null Count  Dtype \n",
      "---  ------     --------------  ----- \n",
      " 0   flags      21534 non-null  object\n",
      " 1   utterance  21534 non-null  object\n",
      " 2   category   21534 non-null  object\n",
      " 3   intent     21534 non-null  object\n",
      "dtypes: object(4)\n",
      "memory usage: 673.1+ KB\n",
      "None\n"
     ]
    }
   ],
   "source": [
    "print(dataset.head())\n",
    "print(dataset.info())\n"
   ]
  },
  {
   "cell_type": "code",
   "execution_count": 4,
   "id": "529e615a",
   "metadata": {},
   "outputs": [
    {
     "name": "stdout",
     "output_type": "stream",
     "text": [
      "['create_account' 'delete_account' 'edit_account' 'recover_password'\n",
      " 'registration_problems' 'switch_account' 'check_cancellation_fee'\n",
      " 'contact_customer_service' 'contact_human_agent' 'delivery_options'\n",
      " 'delivery_period' 'complaint' 'review' 'check_invoices' 'get_invoice'\n",
      " 'newsletter_subscription' 'cancel_order' 'change_order' 'place_order'\n",
      " 'track_order' 'check_payment_methods' 'payment_issue'\n",
      " 'check_refund_policy' 'get_refund' 'track_refund'\n",
      " 'change_shipping_address' 'set_up_shipping_address']\n"
     ]
    }
   ],
   "source": [
    "unique_intents = dataset['intent'].unique()\n",
    "print(unique_intents)\n"
   ]
  },
  {
   "cell_type": "code",
   "execution_count": 5,
   "id": "26426817",
   "metadata": {},
   "outputs": [],
   "source": [
    "from nltk.tokenize import word_tokenize\n",
    "\n",
    "# Tokenize the 'utterance' column and create a new column 'tokens' to store the tokens\n",
    "dataset['tokens'] = dataset['utterance'].apply(word_tokenize)\n",
    "\n",
    "# Convert tokens to lowercase\n",
    "dataset['tokens'] = dataset['tokens'].apply(lambda x: [token.lower() for token in x])\n",
    "\n"
   ]
  },
  {
   "cell_type": "code",
   "execution_count": null,
   "id": "b7364ae3",
   "metadata": {},
   "outputs": [],
   "source": []
  },
  {
   "cell_type": "code",
   "execution_count": 6,
   "id": "42117ec5",
   "metadata": {},
   "outputs": [
    {
     "name": "stdout",
     "output_type": "stream",
     "text": [
      "Training set shape: (17227,) (17227,)\n",
      "Testing set shape: (4307,) (4307,)\n"
     ]
    }
   ],
   "source": [
    "from sklearn.model_selection import train_test_split\n",
    "\n",
    "# Split the dataset into features (X) and target (y)\n",
    "X = dataset['tokens']  # Features (input data)\n",
    "y = dataset['intent']  # Target (output labels)\n",
    "\n",
    "# Split the data into training and testing sets (80% training, 20% testing)\n",
    "X_train, X_test, y_train, y_test = train_test_split(X, y, test_size=0.2, random_state=42)\n",
    "\n",
    "# Check the shapes of the training and testing sets\n",
    "print(\"Training set shape:\", X_train.shape, y_train.shape)\n",
    "print(\"Testing set shape:\", X_test.shape, y_test.shape)\n"
   ]
  },
  {
   "cell_type": "code",
   "execution_count": 7,
   "id": "b025efaa",
   "metadata": {},
   "outputs": [
    {
     "data": {
      "text/plain": [
       "MultinomialNB()"
      ]
     },
     "execution_count": 7,
     "metadata": {},
     "output_type": "execute_result"
    }
   ],
   "source": [
    "from sklearn.naive_bayes import MultinomialNB\n",
    "from sklearn.feature_extraction.text import TfidfVectorizer\n",
    "\n",
    "# Initialize a TF-IDF vectorizer\n",
    "tfidf_vectorizer = TfidfVectorizer()\n",
    "\n",
    "# Fit and transform the training text data to TF-IDF vectors\n",
    "X_train_tfidf = tfidf_vectorizer.fit_transform(X_train.apply(lambda x: ' '.join(x)))\n",
    "\n",
    "# Initialize and train a Multinomial Naive Bayes classifier\n",
    "model = MultinomialNB()\n",
    "model.fit(X_train_tfidf, y_train)\n"
   ]
  },
  {
   "cell_type": "code",
   "execution_count": 8,
   "id": "ef5b8895",
   "metadata": {},
   "outputs": [
    {
     "name": "stdout",
     "output_type": "stream",
     "text": [
      "Model Accuracy: 0.964476433712561\n"
     ]
    }
   ],
   "source": [
    "# Transform the testing text data to TF-IDF vectors\n",
    "X_test_tfidf = tfidf_vectorizer.transform(X_test.apply(lambda x: ' '.join(x)))\n",
    "\n",
    "# Evaluate the model's accuracy on the testing set\n",
    "accuracy = model.score(X_test_tfidf, y_test)\n",
    "print(\"Model Accuracy:\", accuracy)\n"
   ]
  },
  {
   "cell_type": "code",
   "execution_count": 9,
   "id": "467d6208",
   "metadata": {},
   "outputs": [
    {
     "name": "stdout",
     "output_type": "stream",
     "text": [
      "Predicted Intent: delete_account\n"
     ]
    }
   ],
   "source": [
    "# Example user input\n",
    "user_input = \"I want to cancel my order\"\n",
    "\n",
    "# Preprocess the user input (tokenization and lowercase conversion)\n",
    "user_tokens = word_tokenize(user_input.lower())\n",
    "\n",
    "# Convert user tokens to a TF-IDF vector using the trained TF-IDF vectorizer\n",
    "user_input_tfidf = tfidf_vectorizer.transform([' '.join(user_tokens)])\n",
    "\n",
    "# Predict the intent of the user query using the trained model\n",
    "predicted_intent = model.predict(user_input_tfidf)[0]\n",
    "\n",
    "print(\"Predicted Intent:\", predicted_intent)\n"
   ]
  },
  {
   "cell_type": "code",
   "execution_count": 10,
   "id": "a5b29dca",
   "metadata": {},
   "outputs": [],
   "source": [
    "import pickle\n"
   ]
  },
  {
   "cell_type": "code",
   "execution_count": 11,
   "id": "d19d45e3",
   "metadata": {},
   "outputs": [],
   "source": [
    "import pickle\n",
    "\n",
    "# Save the trained model to a pickle file\n",
    "with open(\"model.pkl\", \"wb\") as file:\n",
    "    pickle.dump(model, file)\n"
   ]
  },
  {
   "cell_type": "code",
   "execution_count": 12,
   "id": "d27b3fe2",
   "metadata": {},
   "outputs": [],
   "source": [
    "import pickle\n",
    "\n",
    "# Save the TF-IDF vectorizer to a pickle file\n",
    "with open(\"tfidf_vectorizer.pkl\", \"wb\") as file:\n",
    "    pickle.dump(tfidf_vectorizer, file)\n"
   ]
  },
  {
   "cell_type": "code",
   "execution_count": 13,
   "id": "00d83fb7",
   "metadata": {},
   "outputs": [],
   "source": [
    "# Load trained model\n",
    "with open(\"model.pkl\", \"rb\") as file:\n",
    "    model = pickle.load(file)\n",
    "\n",
    "# Load TF-IDF vectorizer\n",
    "with open(\"tfidf_vectorizer.pkl\", \"rb\") as file:\n",
    "    tfidf_vectorizer = pickle.load(file)\n"
   ]
  },
  {
   "cell_type": "code",
   "execution_count": 14,
   "id": "04e4f482",
   "metadata": {},
   "outputs": [],
   "source": [
    "import tkinter as tk\n",
    "from tkinter import scrolledtext\n"
   ]
  },
  {
   "cell_type": "code",
   "execution_count": 15,
   "id": "82058be0",
   "metadata": {},
   "outputs": [],
   "source": [
    "import nltk\n",
    "from nltk.tokenize import word_tokenize\n",
    "\n",
    "# Create a Tkinter window\n",
    "window = tk.Tk()\n",
    "window.title(\"Customer Service Chatbot\")\n",
    "\n",
    "# Create a scrolled text widget to display the chat history\n",
    "chat_history = scrolledtext.ScrolledText(window, width=60, height=20)\n",
    "chat_history.grid(row=0, column=0, padx=10, pady=10)\n",
    "\n",
    "# Create an entry widget for user input\n",
    "user_input = tk.Entry(window, width=50)\n",
    "user_input.grid(row=1, column=0, padx=10, pady=10)\n",
    "\n",
    "def get_response(intent):\n",
    "    responses = {\n",
    "        \"create_account\": \"I can help you create a new account. Please provide me with the necessary details.\",\n",
    "        \"delete_account\": \"To delete your account, please contact our customer service team for assistance.\",\n",
    "        \"edit_account\": \"You can edit your account details by logging into your account and accessing the settings.\",\n",
    "        \"recover_password\": \"To recover your password, please use the 'Forgot Password' option on the login page.\",\n",
    "        \"registration_problems\": \"If you're facing issues with registration, please ensure all required fields are filled correctly.\",\n",
    "        \"switch_account\": \"You can switch between accounts by logging out and logging in with a different account.\",\n",
    "        \"check_cancellation_fee\": \"To check cancellation fees, please refer to our terms and conditions or contact customer service.\",\n",
    "        \"contact_customer_service\": \"Please feel free to contact our customer service team at support@example.com or call us at +1-800-123-4567 for assistance.\",\n",
    "        \"contact_human_agent\": \"To speak with a human agent, please contact our customer service team directly.\",\n",
    "        \"delivery_options\": \"We offer standard and express delivery options. Standard delivery typically takes 3-5 business days, while express delivery arrives within 1-2 business days.\",\n",
    "        \"delivery_period\": \"The delivery period depends on your location and chosen delivery option. Please check our website for estimated delivery times.\",\n",
    "        \"complaint\": \"We apologize for any inconvenience caused. Please provide more details about your complaint so we can assist you further.\",\n",
    "        \"review\": \"Thank you for your review! We appreciate your feedback and use it to improve our services.\",\n",
    "        \"check_invoices\": \"You can check your invoices by logging into your account and accessing the invoices section.\",\n",
    "        \"get_invoice\": \"To get a specific invoice, please log into your account and download it from the invoices section.\",\n",
    "        \"newsletter_subscription\": \"To subscribe to our newsletter, please visit our website and enter your email address in the subscription form.\",\n",
    "        \"cancel_order\": \"Your order has been successfully cancelled.\",\n",
    "        \"change_order\": \"To change your order, please contact customer service as soon as possible.\",\n",
    "        \"place_order\": \"You can place a new order through our website or mobile app.\",\n",
    "        \"track_order\": \"To track your order, please enter your order number on the order tracking page.\",\n",
    "        \"check_payment_methods\": \"You can check available payment methods during the checkout process on our website.\",\n",
    "        \"payment_issue\": \"If you're experiencing payment issues, please ensure that your payment information is entered correctly. You can also try using a different payment method or contacting your bank for assistance.\",\n",
    "        \"check_refund_policy\": \"Our refund policy details can be found on our website under the terms and conditions section.\",\n",
    "        \"get_refund\": \"To request a refund, please contact customer service with your order details.\",\n",
    "        \"track_refund\": \"To track the status of your refund, please contact customer service.\",\n",
    "        \"change_shipping_address\": \"To change your shipping address, please log into your account and update your address details.\",\n",
    "        \"set_up_shipping_address\": \"To set up a new shipping address, please log into your account and add the address in the shipping settings.\"\n",
    "    }\n",
    "    \n",
    "    # Return the response corresponding to the predicted intent\n",
    "    return responses.get(intent, \"I'm sorry, I'm not sure how to respond to that.\")\n",
    "\n",
    "\n",
    "\n",
    "# Function to handle user input and display chatbot response\n",
    "def send_message():\n",
    "    # Get user input\n",
    "    user_query = user_input.get()\n",
    "    \n",
    "    # Preprocess user input (tokenization and lowercase conversion)\n",
    "    user_tokens = word_tokenize(user_query.lower())\n",
    "\n",
    "    # Convert user tokens to a TF-IDF vector using the trained TF-IDF vectorizer\n",
    "    user_input_tfidf = tfidf_vectorizer.transform([' '.join(user_tokens)])\n",
    "\n",
    "    # Predict the intent of the user query using the trained model\n",
    "    predicted_intent = model.predict(user_input_tfidf)[0]\n",
    "    \n",
    "    # Get the appropriate response for the predicted intent (you can customize this based on your intents)\n",
    "    response = get_response(predicted_intent)\n",
    "    \n",
    "    # Display user input and chatbot response in the chat history\n",
    "    chat_history.insert(tk.END, \"You: \" + user_query + \"\\n\")\n",
    "    chat_history.insert(tk.END, \"Chatbot: \" + response + \"\\n\")\n",
    "    \n",
    "    # Clear the user input entry widget\n",
    "    user_input.delete(0, tk.END)\n",
    "\n",
    "\n",
    "# Create a button to send user input\n",
    "send_button = tk.Button(window, text=\"Send\", command=send_message)\n",
    "send_button.grid(row=1, column=1, padx=10, pady=10)\n",
    "\n",
    "# Run the Tkinter event loop\n",
    "window.mainloop()"
   ]
  },
  {
   "cell_type": "code",
   "execution_count": null,
   "id": "be1af329",
   "metadata": {},
   "outputs": [],
   "source": []
  }
 ],
 "metadata": {
  "kernelspec": {
   "display_name": "Python 3 (ipykernel)",
   "language": "python",
   "name": "python3"
  },
  "language_info": {
   "codemirror_mode": {
    "name": "ipython",
    "version": 3
   },
   "file_extension": ".py",
   "mimetype": "text/x-python",
   "name": "python",
   "nbconvert_exporter": "python",
   "pygments_lexer": "ipython3",
   "version": "3.9.13"
  }
 },
 "nbformat": 4,
 "nbformat_minor": 5
}
